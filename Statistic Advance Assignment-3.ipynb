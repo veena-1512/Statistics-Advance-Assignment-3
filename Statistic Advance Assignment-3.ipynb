{
 "cells": [
  {
   "cell_type": "markdown",
   "id": "cb6fef92-3659-4e8e-9528-3e4207bebd8a",
   "metadata": {},
   "source": [
    "\n",
    "Q1 . Estimation statistics is a branch of inferential statistics that deals with making inferences about population parameters based on sample data. When it is impractical or impossible to collect data from an entire population, researchers often take a sample from the population and use statistical methods to estimate the unknown population parameters. The two main types of estimates in estimation statistics are point estimates and interval estimates.\n",
    "\n",
    "i. Point Estimate:\n",
    "A point estimate is a single numerical value that serves as the best guess for the population parameter of interest based on the sample data. It provides a single value as an estimate without any indication of the precision or accuracy of the estimation. Common point estimates include the sample mean, sample proportion, sample median, etc.\n",
    "For example, if you want to estimate the average height of students in a school, you can take a sample of students and calculate the mean height of that sample. This mean height would be the point estimate for the average height of all students in the school.\n",
    "\n",
    "However, it's important to remember that point estimates are subject to sampling variability, meaning different samples from the same population may produce different point estimates. This is where interval estimates come into play.\n",
    "\n",
    "ii. Interval Estimate:\n",
    "An interval estimate provides a range of values within which the true population parameter is likely to lie, along with a level of confidence associated with this estimate. It accounts for the sampling variability and gives a measure of the precision or uncertainty in the estimation.\n",
    "The most common form of interval estimate is the confidence interval. A confidence interval is expressed as a range of values with an associated confidence level. For instance, a 95% confidence interval for the average height of students in a school might be [160 cm, 170 cm]. This means that we are 95% confident that the true average height of all students in the school lies between 160 cm and 170 cm."
   ]
  },
  {
   "cell_type": "markdown",
   "id": "c1566204-3165-4640-ad5f-de011b4ebb33",
   "metadata": {},
   "source": [
    "Q2.  Python function to estimate the population mean using the sample mean and standard deviation:"
   ]
  },
  {
   "cell_type": "code",
   "execution_count": 1,
   "id": "44abfd6b-100e-486d-8d6c-6b7db7fc1d54",
   "metadata": {},
   "outputs": [
    {
     "name": "stdout",
     "output_type": "stream",
     "text": [
      "Estimated population mean: 25.7\n"
     ]
    }
   ],
   "source": [
    "def estimate_population_mean(sample_mean, sample_std_dev, sample_size):\n",
    "    estimated_population_mean = sample_mean\n",
    "    return estimated_population_mean\n",
    "sample_mean = 25.7\n",
    "sample_std_dev = 4.2\n",
    "sample_size = 50\n",
    "\n",
    "estimated_mean = estimate_population_mean(sample_mean, sample_std_dev, sample_size)\n",
    "print(f\"Estimated population mean: {estimated_mean}\")"
   ]
  },
  {
   "cell_type": "markdown",
   "id": "03095e26-7a85-4706-8314-6693045493be",
   "metadata": {},
   "source": [
    "Q3. Hypothesis testing is a fundamental concept in inferential statistics, used to make decisions and draw conclusions about a population based on sample data. It involves the formulation of two competing statements, known as the null hypothesis (H0) and the alternative hypothesis (Ha). These hypotheses are then subjected to statistical analysis using sample data to determine whether there is enough evidence to reject the null hypothesis in favor of the alternative hypothesis.\n",
    "\n",
    "The main steps involved in hypothesis testing are as follows:\n",
    "\n",
    "Formulate the null hypothesis (H0): This hypothesis typically represents the status quo, stating that there is no significant effect or difference in the population. It often includes statements like \"no change,\" \"no effect,\" or \"no difference.\"\n",
    "\n",
    "Formulate the alternative hypothesis (Ha): This hypothesis represents what the researcher is trying to find evidence for, such as a change, an effect, or a difference in the population. It contradicts the null hypothesis.\n",
    "\n",
    "Choose a significance level (α): The significance level, often denoted as α (alpha), represents the probability of making a Type I error, which is the probability of rejecting the null hypothesis when it is actually true. Commonly used significance levels are 0.05 (5%) and 0.01 (1%).\n",
    "\n",
    "Collect sample data: Gather data from a sample that is representative of the population of interest.\n",
    "\n",
    "Perform statistical analysis: Use statistical tests and methods to calculate a test statistic that measures the degree of compatibility between the sample data and the null hypothesis.\n",
    "\n",
    "Draw a conclusion: Compare the test statistic with critical values or p-values corresponding to the chosen significance level. If the test statistic falls in the critical region or the p-value is less than the significance level, you reject the null hypothesis in favor of the alternative hypothesis. Otherwise, you fail to reject the null hypothesis.\n",
    "\n",
    "Importance of Hypothesis Testing:\n",
    "\n",
    "Scientific Decision Making: Hypothesis testing allows researchers to make evidence-based decisions. By comparing sample data with hypotheses, researchers can determine whether their findings are statistically significant or merely due to random chance.\n",
    "\n",
    "Inference about Populations: It enables researchers to draw conclusions about population parameters using sample data. Since it is often impractical or impossible to collect data from an entire population, hypothesis testing provides a way to make inferences based on smaller sample sizes.\n",
    "\n",
    "Comparing Interventions: Hypothesis testing is widely used in experiments and clinical trials to evaluate the effectiveness of new interventions or treatments compared to existing ones.\n",
    "\n",
    "Business and Industry: In business and industry, hypothesis testing is used to test new marketing strategies, product improvements, or process changes to see if they lead to significant improvements.\n",
    "\n",
    "Scientific Research: In various scientific disciplines, researchers use hypothesis testing to test new theories, hypotheses, or predictions about natural phenomena.\n",
    "\n",
    "Policy Decisions: Hypothesis testing is crucial in policy research and decision-making, where data-driven evidence is needed to inform policy changes and interventions."
   ]
  },
  {
   "cell_type": "markdown",
   "id": "65b0961b-b8d1-467e-89dc-93cd53076d7f",
   "metadata": {},
   "source": [
    "Q4. Hypothesis testing involves formulating two competing hypotheses: the null hypothesis (H0) and the alternative hypothesis (Ha). In this case, we want to test whether the average weight of male college students is greater than the average weight of female college students. Let's set up the hypotheses:\n",
    "\n",
    "Null Hypothesis (H0):\n",
    "The null hypothesis typically states that there is no difference or no effect. In this case, it states that there is no difference in the average weight between male and female college students.\n",
    "\n",
    "H0: The average weight of male college students is equal to or less than the average weight of female college students.\n",
    "µ_male ≤ µ_female\n",
    "\n",
    "Alternative Hypothesis (Ha):\n",
    "The alternative hypothesis contradicts the null hypothesis and represents what we are trying to find evidence for. In this case, it states that the average weight of male college students is greater than the average weight of female college students.\n",
    "\n",
    "Ha: The average weight of male college students is greater than the average weight of female college students.\n",
    "µ_male > µ_female\n",
    "\n",
    "Here, µ_male represents the population mean weight of male college students, and µ_female represents the population mean weight of female college students."
   ]
  },
  {
   "cell_type": "markdown",
   "id": "9786fc0f-4c48-402f-9ec7-deaa03778655",
   "metadata": {},
   "source": [
    "Q5. To conduct a hypothesis test on the difference between two population means,we can use a two-sample t-test. The t-test is appropriate when we have two independent samples and want to compare their means. In Python, we can use the scipy.stats.ttest_ind function from the SciPy library to perform the two-sample t-test. Here's a Python script to conduct the hypothesis test:"
   ]
  },
  {
   "cell_type": "code",
   "execution_count": 3,
   "id": "a1b63278-33fb-4f1c-80cb-6ec8f3904d10",
   "metadata": {},
   "outputs": [
    {
     "name": "stdout",
     "output_type": "stream",
     "text": [
      "Two-Sample t-Test Results:\n",
      "t-statistic: 3.998198441560644\n",
      "p-value: 0.0008432058695966938\n",
      "Null hypothesis rejected: True\n"
     ]
    }
   ],
   "source": [
    "import numpy as np\n",
    "from scipy.stats import ttest_ind\n",
    "\n",
    "def two_sample_t_test(sample1, sample2, alpha=0.05):\n",
    "    \n",
    "    t_stat, p_value = ttest_ind(sample1, sample2)\n",
    "    null_hypothesis_rejected = p_value < alpha\n",
    "    return t_stat, p_value, null_hypothesis_rejected\n",
    "\n",
    "# Example usage:\n",
    "sample1 = np.array([68, 70, 72, 66, 71, 74, 69, 73, 67, 70])\n",
    "sample2 = np.array([64, 66, 67, 62, 65, 68, 63, 69, 66, 67])\n",
    "alpha = 0.05\n",
    "\n",
    "t_statistic, p_value, null_hypothesis_rejected = two_sample_t_test(sample1, sample2, alpha)\n",
    "\n",
    "print(f\"Two-Sample t-Test Results:\")\n",
    "print(f\"t-statistic: {t_statistic}\")\n",
    "print(f\"p-value: {p_value}\")\n",
    "print(f\"Null hypothesis rejected: {null_hypothesis_rejected}\")"
   ]
  },
  {
   "cell_type": "markdown",
   "id": "2c9a0e56-7785-46d0-b7ab-8020011d4f23",
   "metadata": {},
   "source": [
    "Q 6. A null hypothesis is a statement in which there is no relation between the two variables. An alternative hypothesis is a statement in which there is some statistical relationship between the two variables\n",
    "\n",
    "Null Hypothesis: If one plant is watered with distilled water and the other with mineral water, then there is no difference in the growth and nourishment of these two plants.\n",
    "\n",
    "\n",
    "The alternative hypothesis is a statement used in statistical inference experiment. It is contradictory to the null hypothesis and denoted by Ha or H1. We can also say that it is simply an alternative to the null. In hypothesis testing, an alternative theory is a statement which a researcher is testing.\n"
   ]
  },
  {
   "cell_type": "markdown",
   "id": "bea3dde1-b082-4d39-8ea6-db8fa765cebf",
   "metadata": {},
   "source": [
    "Q7. Hypothesis testing is a statistical method used to make inferences about population parameters based on sample data. It helps us determine whether there is enough evidence to support or reject a specific claim (hypothesis) about the population. The steps involved in hypothesis testing are as follows:\n",
    "\n",
    "Step 1: Formulate the null hypothesis (H0) and alternative hypothesis (Ha):\n",
    "\n",
    "Step 2: State the Alternative Hypothesis. ...\n",
    "\n",
    "Step 3: Choose the significance level (α):\n",
    "\n",
    "Step 4: Select the appropriate statistical test:\n",
    "\n",
    "Step 5: Collect and analyze the data:\n",
    "\n",
    "Step 6: Calculate the test statistic:\n",
    "\n",
    "Step 7: Determine the critical region (rejection region):\n",
    "\n",
    "Step 8: Compare the test statistic with the critical value:\n",
    "\n",
    "Step 9: Draw conclusions:\n",
    "\n",
    "Step 10: Report the findings:\n"
   ]
  },
  {
   "cell_type": "markdown",
   "id": "ae0b0636-7a01-48ab-adeb-4d4798f13ad8",
   "metadata": {},
   "source": [
    "Q8.  A p-value is a statistical measurement used to validate a hypothesis against observed data. A p-value measures the probability of obtaining the observed results, assuming that the null hypothesis is true. The lower the p-value, the greater the statistical significance of the observed difference."
   ]
  },
  {
   "cell_type": "raw",
   "id": "7b5a2407-29da-4c79-811e-d09a68bbd49c",
   "metadata": {},
   "source": [
    "Q9."
   ]
  },
  {
   "cell_type": "code",
   "execution_count": 1,
   "id": "707c2a96-775c-4e7b-8785-1ae9bce52169",
   "metadata": {},
   "outputs": [],
   "source": [
    "import numpy as np\n",
    "import matplotlib.pyplot as plt\n",
    "from scipy.stats import t"
   ]
  },
  {
   "cell_type": "code",
   "execution_count": 2,
   "id": "4f7c16f1-b265-45eb-b7ab-db0415c7dbdc",
   "metadata": {},
   "outputs": [],
   "source": [
    "x = np.linspace(-4, 4, 500)  # Adjust the range and number of points as needed"
   ]
  },
  {
   "cell_type": "code",
   "execution_count": 3,
   "id": "436653e2-8208-4718-a7a8-3aaca2da2101",
   "metadata": {},
   "outputs": [],
   "source": [
    "degrees_of_freedom = 10\n",
    "y = t.pdf(x, df=degrees_of_freedom)"
   ]
  },
  {
   "cell_type": "code",
   "execution_count": 4,
   "id": "09a5ed1c-3cfb-4bbe-8aac-1c7e586b2907",
   "metadata": {},
   "outputs": [
    {
     "data": {
      "image/png": "[encoded data removed]",
      "text/plain": [
       "<Figure size 640x480 with 1 Axes>"
      ]
     },
     "metadata": {},
     "output_type": "display_data"
    }
   ],
   "source": [
    "plt.plot(x, y, label='t-distribution (df=10)')\n",
    "plt.xlabel('t-values')\n",
    "plt.ylabel('Probability Density')\n",
    "plt.title('Student\\'s t-distribution')\n",
    "plt.legend()\n",
    "plt.grid(True)\n",
    "plt.show()"
   ]
  },
  {
   "cell_type": "markdown",
   "id": "23066af0-849d-4772-85d6-721d1e1b35e2",
   "metadata": {},
   "source": [
    "Q10. A Python program to calculate the two-sample t-test for independent samples, given two \n",
    "random samples of equal size and a null hypothesis that the population means are equal"
   ]
  },
  {
   "cell_type": "code",
   "execution_count": 2,
   "id": "adb05cc3-48ab-4483-9928-404e8117a187",
   "metadata": {},
   "outputs": [
    {
     "name": "stdout",
     "output_type": "stream",
     "text": [
      "t-score: 0.25048971643405893\n",
      "p-value: 0.8085217587487565\n",
      "Reject null hypothesis: False\n"
     ]
    }
   ],
   "source": [
    "import numpy as np\n",
    "from scipy import stats\n",
    "\n",
    "def two_sample_t_test(sample1, sample2, alpha=0.05):\n",
    "    # Calculate the sample statistics\n",
    "    n1 = len(sample1)\n",
    "    n2 = len(sample2)\n",
    "    mean1 = np.mean(sample1)\n",
    "    mean2 = np.mean(sample2)\n",
    "    std1 = np.std(sample1, ddof=1) \n",
    "    std2 = np.std(sample2, ddof=1)\n",
    "\n",
    "    # Calculate the pooled standard deviation\n",
    "    pooled_std = np.sqrt(((std1 ** 2) / n1) + ((std2 ** 2) / n2))\n",
    "\n",
    "    # Calculate the t-score\n",
    "    t_score = (mean1 - mean2) / pooled_std\n",
    "\n",
    "    # Calculate the degrees of freedom\n",
    "    df = n1 + n2 - 2\n",
    "\n",
    "    # Calculate the critical t-value\n",
    "    critical_t = stats.t.ppf(1 - alpha / 2, df)\n",
    "\n",
    "    # Calculate the p-value for a two-tailed test\n",
    "    p_value = 2 * (1 - stats.t.cdf(abs(t_score), df))\n",
    "\n",
    "    # Check if the null hypothesis can be rejected\n",
    "    if abs(t_score) > critical_t:\n",
    "        reject_null_hypothesis = True\n",
    "    else:\n",
    "        reject_null_hypothesis = False\n",
    "\n",
    "    return t_score, p_value, reject_null_hypothesis\n",
    "\n",
    "sample1 = [83, 87, 79, 91, 76]\n",
    "sample2 = [78, 80, 84, 88, 82]\n",
    "\n",
    "t_score, p_value, reject_null_hypothesis = two_sample_t_test(sample1, sample2)\n",
    "\n",
    "print(\"t-score:\", t_score)\n",
    "print(\"p-value:\", p_value)\n",
    "print(\"Reject null hypothesis:\", reject_null_hypothesis)"
   ]
  },
  {
   "cell_type": "markdown",
   "id": "d649f3fe-aaef-40b4-93fa-660a796336c2",
   "metadata": {},
   "source": [
    "Q 11. The t-distribution is used when data are approximately normally distributed, which means the data follow a bell shape but the population variance is unknown. The variance in a t-distribution is estimated based on the degrees of freedom of the data set (total number of observations minus 1)."
   ]
  },
  {
   "cell_type": "markdown",
   "id": "cca0fa2e-65f5-4ec4-87c1-d14698efa05b",
   "metadata": {},
   "source": [
    "Q 12. In statistics, the t-statistic is the ratio of the departure of the estimated value of a parameter from its hypothesized value to its standard error. It is used in hypothesis testing via Student's t-test. The t-statistic is used in a t-test to determine whether to support or reject the null hypothesis.\n",
    "\n",
    " A t-score is calculated as T = (m – M)/{d/sqrt(n)}, and the difference between d and D makes the distribution a t-distribution with (n - 1) degrees of freedom rather than the normal distribution with mean 0 and standard deviation 1."
   ]
  },
  {
   "cell_type": "markdown",
   "id": "30917bbb-e73d-41c1-9bf6-f21c5d0ca74c",
   "metadata": {},
   "source": [
    "Q 13. To estimate the population mean revenue with a 95% confidence interval, we can use the formula for the confidence interval for the population mean. Given the sample mean (x̄), the sample standard deviation (s), sample size (n), and the desired confidence level (95% in this case), the formula for the confidence interval is:\n",
    "\n",
    "Confidence Interval = x̄ ± (critical_value * (s / √n))\n",
    "\n",
    "Where:\n",
    "\n",
    "x̄ is the sample mean revenue ($500 in this case).\n",
    "s is the sample standard deviation ($50 in this case).\n",
    "n is the sample size (50 days in this case).\n",
    "The critical_value is obtained from the t-distribution table for a 95% confidence level and 49 degrees of freedom (n - 1).\n",
    "Let's calculate the confidence interval:"
   ]
  },
  {
   "cell_type": "code",
   "execution_count": 4,
   "id": "e03b0a58-c036-45e5-864e-5b1dff86bdac",
   "metadata": {},
   "outputs": [
    {
     "name": "stdout",
     "output_type": "stream",
     "text": [
      "Population mean revenue estimate (95% confidence interval): $485.79 to $514.21\n"
     ]
    }
   ],
   "source": [
    "import scipy.stats as stats\n",
    "\n",
    "sample_mean = 500\n",
    "sample_std = 50\n",
    "sample_size = 50\n",
    "confidence_level = 0.95\n",
    "\n",
    "critical_value = stats.t.ppf((1 + confidence_level) / 2, df=sample_size - 1)\n",
    "\n",
    "standard_error = sample_std / (sample_size ** 0.5)\n",
    "\n",
    "lower_bound = sample_mean - critical_value * standard_error\n",
    "upper_bound = sample_mean + critical_value * standard_error\n",
    "\n",
    "print(f\"Population mean revenue estimate (95% confidence interval): ${lower_bound:.2f} to ${upper_bound:.2f}\")\n"
   ]
  },
  {
   "cell_type": "markdown",
   "id": "653980f3-7105-466a-9676-22f053daebf4",
   "metadata": {},
   "source": [
    "Q14. To test the hypothesis that the new drug decreases blood pressure by 10 mmHg, we can use a one-sample t-test. Given the sample mean decrease in blood pressure (x̄), the sample standard deviation (s), sample size (n), the hypothesized population mean decrease (μ), and the significance level (α = 0.05), we can calculate the t-statistic and compare it with the critical t-value from the t-distribution table.\n",
    "\n",
    "The null hypothesis (H0) states that the drug has no effect, so the population mean decrease is 0 mmHg (μ = 0).\n",
    "The alternative hypothesis (Ha) states that the drug does decrease blood pressure, so the population mean decrease is 10 mmHg (μ = 10).\n",
    "\n",
    "The formula for the t-statistic is:\n",
    "\n",
    "t = (x̄ - μ) / (s / √n)"
   ]
  },
  {
   "cell_type": "code",
   "execution_count": 5,
   "id": "d20ce4ab-575d-4118-a17a-8514851108dc",
   "metadata": {},
   "outputs": [
    {
     "name": "stdout",
     "output_type": "stream",
     "text": [
      "Fail to reject the null hypothesis. There is no significant evidence that the drug decreases blood pressure.\n"
     ]
    }
   ],
   "source": [
    "import scipy.stats as stats\n",
    "\n",
    "sample_mean = 8\n",
    "sample_std = 3\n",
    "sample_size = 100\n",
    "hypothesized_mean = 10\n",
    "significance_level = 0.05\n",
    "\n",
    "t_statistic = (sample_mean - hypothesized_mean) / (sample_std / (sample_size ** 0.5))\n",
    "\n",
    "degrees_of_freedom = sample_size - 1\n",
    "\n",
    "critical_t_value = stats.t.ppf(1 - significance_level / 2, df=degrees_of_freedom)\n",
    "\n",
    "if t_statistic > critical_t_value:\n",
    "    print(\"Reject the null hypothesis. The new drug decreases blood pressure.\")\n",
    "else:\n",
    "  print(\"Fail to reject the null hypothesis. There is no significant evidence that the drug decreases blood pressure.\")"
   ]
  },
  {
   "cell_type": "markdown",
   "id": "613e4b2a-0f94-47af-9d9e-088b9efb7996",
   "metadata": {},
   "source": [
    "Q15. To test the hypothesis that the true mean weight of the products is less than 5 pounds, we can perform a one-sample t-test. The null hypothesis (H0) is that the true mean weight is equal to 5 pounds, and the alternative hypothesis (Ha) is that the true mean weight is less than 5 pounds.\n",
    "\n",
    "Given:\n",
    "\n",
    "Population mean (μ) = 5 pounds\n",
    "Population standard deviation (σ) = 0.5 pounds\n",
    "Sample size (n) = 25\n",
    "Sample mean (x̄) = 4.8 pounds\n",
    "Significance level (α) = 0.01\n",
    "We'll calculate the t-score and compare it to the critical t-value to determine if we can reject the null hypothesis.\n",
    "\n",
    "The formula for the t-score is given by:\n",
    "\n",
    "t = (x̄ - μ) / (σ / √n)\n",
    "\n",
    "Let's plug in the values:\n",
    "\n",
    "t = (4.8 - 5) / (0.5 / √25)\n",
    "t = -0.2 / (0.5 / 5)\n",
    "t = -0.2 / 0.1\n",
    "t = -2\n",
    "\n",
    "Now, we need to find the critical t-value corresponding to a significance level of 0.01 and degrees of freedom (df) equal to (n - 1).\n",
    "\n",
    "df = 25 - 1 = 24\n",
    "\n",
    "Using a t-table or calculator, the critical t-value for a one-tailed test at a significance level of 0.01 and 24 degrees of freedom is approximately -2.492.\n",
    "\n",
    "Since the calculated t-score (-2) is greater than the critical t-value (-2.492), we cannot reject the null hypothesis.\n",
    "\n",
    "Conclusion:\n",
    "At the 0.01 significance level, there is not enough evidence to conclude that the true mean weight of the products is less than 5 pounds. The sample data does not provide strong evidence to reject the claim that the mean weight is 5 pounds."
   ]
  },
  {
   "cell_type": "markdown",
   "id": "f15844f0-67e9-496e-9b2d-75f4b73273af",
   "metadata": {},
   "source": [
    "Q 16. To test the hypothesis that the population means for the two groups are equal, we can perform an independent two-sample t-test. The null hypothesis (H0) is that the population means are equal, and the alternative hypothesis (Ha) is that they are not equal.\n",
    "\n",
    "Given:\n",
    "\n",
    "Group 1: n1 = 30, x̄1 = 80, s1 = 10 (sample standard deviation)\n",
    "Group 2: n2 = 40, x̄2 = 75, s2 = 8 (sample standard deviation)\n",
    "Significance level (α) = 0.01\n",
    "The formula for the t-score for independent samples is given by:\n",
    "\n",
    "t = (x̄1 - x̄2) / √((s1^2 / n1) + (s2^2 / n2))\n",
    "\n",
    "Let's plug in the values:\n",
    "\n",
    "t = (80 - 75) / √((10^2 / 30) + (8^2 / 40))\n",
    "t = 5 / √((100 / 30) + (64 / 40))\n",
    "t = 5 / √(3.333 + 1.6)\n",
    "t = 5 / √4.933\n",
    "t ≈ 5 / 2.220\n",
    "t ≈ 2.252\n",
    "\n",
    "Now, we need to find the critical t-value for a significance level of 0.01 and degrees of freedom (df) equal to (n1 + n2 - 2).\n",
    "\n",
    "df = 30 + 40 - 2 = 68\n",
    "\n",
    "Using a t-table or calculator, the critical t-value for a two-tailed test at a significance level of 0.01 and 68 degrees of freedom is approximately ±2.637.\n",
    "\n",
    "Since the calculated t-score (2.252) is smaller than the critical t-value (2.637) and falls within the non-rejection region, we cannot reject the null hypothesis.\n",
    "\n",
    "Conclusion:\n",
    "At the 0.01 significance level, there is not enough evidence to conclude that the population means for the two groups are different. The sample data does not provide strong evidence to reject the claim that the means are equal."
   ]
  },
  {
   "cell_type": "markdown",
   "id": "ffd8c3a9-31b8-4a73-a2fa-e2fb8f0a2977",
   "metadata": {},
   "source": [
    "Q17. To estimate the population mean with a 99% confidence interval, we can use the formula for the confidence interval for a population mean with a known standard deviation. The formula is:\n",
    "\n",
    "Confidence Interval = x̄ ± Z * (σ / √n)\n",
    "\n",
    "where:\n",
    "\n",
    "x̄ is the sample mean\n",
    "Z is the critical value from the standard normal distribution corresponding to the desired confidence level (99% confidence level corresponds to Z ≈ 2.576 for a two-tailed test)\n",
    "σ is the population standard deviation (given as 1.5 in this case)\n",
    "n is the sample size (given as 50 in this case)\n",
    "Let's plug in the values:\n",
    "\n",
    "Confidence Interval = 4 ± 2.576 * (1.5 / √50)\n",
    "\n",
    "Now, calculate the standard error (SE):\n",
    "\n",
    "SE = 1.5 / √50 ≈ 0.2121\n",
    "\n",
    "Confidence Interval ≈ 4 ± 2.576 * 0.2121\n",
    "\n",
    "Confidence Interval ≈ 4 ± 0.5463\n",
    "\n",
    "Lower bound ≈ 4 - 0.5463 ≈ 3.4537\n",
    "Upper bound ≈ 4 + 0.5463 ≈ 4.5463\n",
    "\n",
    "The 99% confidence interval for the average number of ads watched by viewers during the TV program is approximately 3.45 to 4.55. This means that we are 99% confident that the true population mean lies between 3.45 and 4.55 ads watched."
   ]
  },
  {
   "cell_type": "code",
   "execution_count": null,
   "id": "4fbc8dce-27ee-4e48-95e1-0718c0b57322",
   "metadata": {},
   "outputs": [],
   "source": []
  }
 ],
 "metadata": {
  "kernelspec": {
   "display_name": "Python 3 (ipykernel)",
   "language": "python",
   "name": "python3"
  },
  "language_info": {
   "codemirror_mode": {
    "name": "ipython",
    "version": 3
   },
   "file_extension": ".py",
   "mimetype": "text/x-python",
   "name": "python",
   "nbconvert_exporter": "python",
   "pygments_lexer": "ipython3",
   "version": "3.10.8"
  }
 },
 "nbformat": 4,
 "nbformat_minor": 5
}
